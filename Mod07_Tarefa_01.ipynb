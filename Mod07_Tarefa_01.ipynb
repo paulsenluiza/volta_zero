{
 "cells": [
  {
   "cell_type": "markdown",
   "metadata": {
    "id": "d8yCrvnM_2sd"
   },
   "source": [
    "# Módulo 07, Tarefa 01\n",
    "\n",
    "Vamos começar a mexer na nossa base de projeto? Já fizemos um exercício de montar a variável resposta, já pudemos perceber que essa atividade pode não ser trivial. Vamos agora trabalhar a base para que fique propícia ao *scikitlearn* para trabalharmos.\n",
    "\n",
    "Lembrando, a base se chama demo01.csv, e originalmente está publicada [aqui](https://www.kaggle.com/rikdifos/credit-card-approval-prediction)."
   ]
  },
  {
   "cell_type": "markdown",
   "metadata": {
    "id": "hcMBVVE8_2sg"
   },
   "source": [
    "#### 1) Carregue a base e avalie:\n",
    "\n",
    "- As variáveis\n",
    "- Tipos de dados de cada variável\n",
    "- Quantidade de missings\n",
    "- Distribuição da variável resposta (mau)"
   ]
  },
  {
   "cell_type": "code",
   "execution_count": 3,
   "metadata": {
    "id": "jfUxW_PX_2sh"
   },
   "outputs": [
    {
     "name": "stdout",
     "output_type": "stream",
     "text": [
      "Tipos de dados:\n",
      " ID                       int64\n",
      "CODE_GENDER             object\n",
      "FLAG_OWN_CAR            object\n",
      "FLAG_OWN_REALTY         object\n",
      "CNT_CHILDREN             int64\n",
      "AMT_INCOME_TOTAL       float64\n",
      "NAME_INCOME_TYPE        object\n",
      "NAME_EDUCATION_TYPE     object\n",
      "NAME_FAMILY_STATUS      object\n",
      "NAME_HOUSING_TYPE       object\n",
      "DAYS_BIRTH               int64\n",
      "DAYS_EMPLOYED            int64\n",
      "FLAG_MOBIL               int64\n",
      "FLAG_WORK_PHONE          int64\n",
      "FLAG_PHONE               int64\n",
      "FLAG_EMAIL               int64\n",
      "OCCUPATION_TYPE         object\n",
      "CNT_FAM_MEMBERS        float64\n",
      "resposta                object\n",
      "dtype: object\n",
      "\n",
      "Valores ausentes:\n",
      " ID                        0\n",
      "CODE_GENDER               0\n",
      "FLAG_OWN_CAR              0\n",
      "FLAG_OWN_REALTY           0\n",
      "CNT_CHILDREN              0\n",
      "AMT_INCOME_TOTAL          0\n",
      "NAME_INCOME_TYPE          0\n",
      "NAME_EDUCATION_TYPE       0\n",
      "NAME_FAMILY_STATUS        0\n",
      "NAME_HOUSING_TYPE         0\n",
      "DAYS_BIRTH                0\n",
      "DAYS_EMPLOYED             0\n",
      "FLAG_MOBIL                0\n",
      "FLAG_WORK_PHONE           0\n",
      "FLAG_PHONE                0\n",
      "FLAG_EMAIL                0\n",
      "OCCUPATION_TYPE        5245\n",
      "CNT_FAM_MEMBERS           0\n",
      "resposta                  0\n",
      "dtype: int64\n",
      "\n",
      "Distribuição da variável resposta:\n",
      " resposta\n",
      "bom    97.657658\n",
      "mau     2.342342\n",
      "Name: proportion, dtype: float64\n"
     ]
    }
   ],
   "source": [
    "import pandas as pd\n",
    "\n",
    "# Carregar a base de dados\n",
    "df = pd.read_csv(\"base_final.csv\")\n",
    "\n",
    "# Renomear a coluna 'default' para 'resposta'\n",
    "df.rename(columns={'default': 'resposta'}, inplace=True)\n",
    "\n",
    "# Criar um mapeamento para a variável resposta\n",
    "mapping = {False: 'bom', True: 'mau'}\n",
    "\n",
    "# Aplicar o mapeamento\n",
    "df['resposta'] = df['resposta'].map(mapping)\n",
    "\n",
    "# Exibir tipos de dados das variáveis\n",
    "print(\"Tipos de dados:\\n\", df.dtypes)\n",
    "\n",
    "# Contar valores ausentes\n",
    "print(\"\\nValores ausentes:\\n\", df.isnull().sum())\n",
    "\n",
    "# Distribuição da variável resposta\n",
    "print(\"\\nDistribuição da variável resposta:\\n\", df['resposta'].value_counts(normalize=True) * 100)"
   ]
  },
  {
   "cell_type": "markdown",
   "metadata": {
    "id": "_v0f02mE_2si"
   },
   "source": [
    "#### 2) Vamos montar um metadados\n",
    "\n",
    "1. Crie um dataframe com os nomes de cada variável e o tipo de dados de cada variável.\n",
    "2. Adicione uma coluna nesse *dataframe* chamada \"qtd_categorias\" e coloque nela o número de categorias correspondente de cada variável.\n",
    "    Dica:\n",
    "        1. inicie uma lista vazia\n",
    "        2. faça um for ao longo dos nomes das variáveis,\n",
    "        3. conte o número de categorias dessa variável\n",
    "        4. acumule essa informação de 3. na lista que você criou em 1.\n",
    "        5. No final, essa lista pode ser atribuída à nossa variável."
   ]
  },
  {
   "cell_type": "code",
   "execution_count": 4,
   "metadata": {
    "id": "gNF5BRdA_2si"
   },
   "outputs": [
    {
     "name": "stdout",
     "output_type": "stream",
     "text": [
      "               variavel tipo_dado  qtd_categorias\n",
      "0                    ID     int64           16650\n",
      "1           CODE_GENDER    object               2\n",
      "2          FLAG_OWN_CAR    object               2\n",
      "3       FLAG_OWN_REALTY    object               2\n",
      "4          CNT_CHILDREN     int64               8\n",
      "5      AMT_INCOME_TOTAL   float64             221\n",
      "6      NAME_INCOME_TYPE    object               5\n",
      "7   NAME_EDUCATION_TYPE    object               5\n",
      "8    NAME_FAMILY_STATUS    object               5\n",
      "9     NAME_HOUSING_TYPE    object               6\n",
      "10           DAYS_BIRTH     int64            5298\n",
      "11        DAYS_EMPLOYED     int64            3005\n",
      "12           FLAG_MOBIL     int64               1\n",
      "13      FLAG_WORK_PHONE     int64               2\n",
      "14           FLAG_PHONE     int64               2\n",
      "15           FLAG_EMAIL     int64               2\n",
      "16      OCCUPATION_TYPE    object              18\n",
      "17      CNT_FAM_MEMBERS   float64               9\n",
      "18             resposta    object               2\n"
     ]
    }
   ],
   "source": [
    "# Criar um DataFrame com os nomes das variáveis e seus tipos\n",
    "metadados = pd.DataFrame({\n",
    "    \"variavel\": df.columns,\n",
    "    \"tipo_dado\": df.dtypes.values\n",
    "})\n",
    "\n",
    "# Criar uma lista para armazenar a quantidade de categorias\n",
    "qtd_categorias = []\n",
    "\n",
    "# Contar o número de categorias para cada variável\n",
    "for coluna in df.columns:\n",
    "    qtd_categorias.append(df[coluna].nunique())\n",
    "\n",
    "# Adicionar a lista ao DataFrame de metadados\n",
    "metadados[\"qtd_categorias\"] = qtd_categorias\n",
    "\n",
    "# Exibir o DataFrame de metadados\n",
    "print(metadados)"
   ]
  },
  {
   "cell_type": "markdown",
   "metadata": {
    "id": "h0XKJFhY_2si"
   },
   "source": [
    "#### 3) Crie variáveis dummy para as variáveis necessárias (i.e. aquelas que são qualitativas e não estão armazenadas como {0, 1} ou {True, False}. Crie um *dataframe* apenas com as variáveis apropriadas para entrada no scikitlearn - elimine as variáveis tipo *str*, mantendo apenas suas versões *dummy*."
   ]
  },
  {
   "cell_type": "code",
   "execution_count": 5,
   "metadata": {
    "id": "ePbdZDOi_2sj"
   },
   "outputs": [
    {
     "name": "stdout",
     "output_type": "stream",
     "text": [
      "        ID  CNT_CHILDREN  AMT_INCOME_TOTAL  DAYS_BIRTH  DAYS_EMPLOYED  \\\n",
      "0  5008806             0          112500.0      -21474          -1134   \n",
      "1  5008810             0          270000.0      -19110          -3051   \n",
      "2  5008811             0          270000.0      -19110          -3051   \n",
      "3  5112956             0          270000.0      -16872           -769   \n",
      "4  5008825             0          130500.0      -10669          -1103   \n",
      "\n",
      "   FLAG_MOBIL  FLAG_WORK_PHONE  FLAG_PHONE  FLAG_EMAIL  CNT_FAM_MEMBERS  ...  \\\n",
      "0           1                0           0           0              2.0  ...   \n",
      "1           1                0           1           1              1.0  ...   \n",
      "2           1                0           1           1              1.0  ...   \n",
      "3           1                1           1           1              2.0  ...   \n",
      "4           1                0           0           0              2.0  ...   \n",
      "\n",
      "   OCCUPATION_TYPE_Laborers  OCCUPATION_TYPE_Low-skill Laborers  \\\n",
      "0                     False                               False   \n",
      "1                     False                               False   \n",
      "2                     False                               False   \n",
      "3                     False                               False   \n",
      "4                     False                               False   \n",
      "\n",
      "   OCCUPATION_TYPE_Managers  OCCUPATION_TYPE_Medicine staff  \\\n",
      "0                     False                           False   \n",
      "1                     False                           False   \n",
      "2                     False                           False   \n",
      "3                     False                           False   \n",
      "4                     False                           False   \n",
      "\n",
      "   OCCUPATION_TYPE_Private service staff  OCCUPATION_TYPE_Realty agents  \\\n",
      "0                                  False                          False   \n",
      "1                                  False                          False   \n",
      "2                                  False                          False   \n",
      "3                                  False                          False   \n",
      "4                                  False                          False   \n",
      "\n",
      "   OCCUPATION_TYPE_Sales staff  OCCUPATION_TYPE_Secretaries  \\\n",
      "0                        False                        False   \n",
      "1                         True                        False   \n",
      "2                         True                        False   \n",
      "3                        False                        False   \n",
      "4                        False                        False   \n",
      "\n",
      "   OCCUPATION_TYPE_Security staff  OCCUPATION_TYPE_Waiters/barmen staff  \n",
      "0                            True                                 False  \n",
      "1                           False                                 False  \n",
      "2                           False                                 False  \n",
      "3                           False                                 False  \n",
      "4                           False                                 False  \n",
      "\n",
      "[5 rows x 47 columns]\n"
     ]
    }
   ],
   "source": [
    "# Selecionar apenas variáveis categóricas (tipo object) para dummificação\n",
    "variaveis_categoricas = df.select_dtypes(include=['object']).columns\n",
    "\n",
    "# Remover a variável 'resposta' (pois é nossa variável-alvo)\n",
    "variaveis_categoricas = variaveis_categoricas.drop('resposta')\n",
    "\n",
    "# Criar variáveis dummy\n",
    "df_dummies = pd.get_dummies(df, columns=variaveis_categoricas, drop_first=True)\n",
    "\n",
    "# Remover colunas originais de texto (que foram convertidas em dummies)\n",
    "df_final = df_dummies.select_dtypes(exclude=['object'])\n",
    "\n",
    "# Exibir as primeiras linhas do dataframe final\n",
    "print(df_final.head())"
   ]
  },
  {
   "cell_type": "markdown",
   "metadata": {
    "id": "uhaqFcPE_2sj"
   },
   "source": [
    "#### 4) Qual variável é mais poderosa?\n",
    "\n",
    "Considere as variáveis ```possui_email``` e ```posse_de_veiculo```. Faça uma tabela cruzada entre elas e responda qual delas te parece mais poderosa para prever a probabilidade de ```mau = 1```?"
   ]
  },
  {
   "cell_type": "code",
   "execution_count": 6,
   "metadata": {
    "id": "3wUAHc_-_2sj"
   },
   "outputs": [
    {
     "name": "stdout",
     "output_type": "stream",
     "text": [
      "Tabela cruzada - FLAG_EMAIL x resposta:\n",
      "resposta          bom       mau\n",
      "FLAG_EMAIL                     \n",
      "0           97.626895  2.373105\n",
      "1           97.972973  2.027027\n",
      "\n",
      "Tabela cruzada - FLAG_OWN_CAR x resposta:\n",
      "resposta            bom       mau\n",
      "FLAG_OWN_CAR                     \n",
      "N             97.573197  2.426803\n",
      "Y             97.790482  2.209518\n"
     ]
    }
   ],
   "source": [
    "# Criar tabela cruzada para FLAG_EMAIL x resposta\n",
    "tabela_email = pd.crosstab(df['FLAG_EMAIL'], df['resposta'], normalize='index') * 100\n",
    "\n",
    "# Criar tabela cruzada para FLAG_OWN_CAR x resposta\n",
    "tabela_carro = pd.crosstab(df['FLAG_OWN_CAR'], df['resposta'], normalize='index') * 100\n",
    "\n",
    "# Exibir os resultados\n",
    "print(\"Tabela cruzada - FLAG_EMAIL x resposta:\")\n",
    "print(tabela_email)\n",
    "print(\"\\nTabela cruzada - FLAG_OWN_CAR x resposta:\")\n",
    "print(tabela_carro)"
   ]
  },
  {
   "cell_type": "markdown",
   "metadata": {
    "id": "G2Issl2e_2sj"
   },
   "source": [
    "#### 5) Salve a base, pois ela será utilizada no final deste módulo."
   ]
  },
  {
   "cell_type": "code",
   "execution_count": 7,
   "metadata": {
    "id": "KSEj8OL9_2sk"
   },
   "outputs": [
    {
     "name": "stdout",
     "output_type": "stream",
     "text": [
      "Base salva como 'base_tratada.csv'.\n"
     ]
    }
   ],
   "source": [
    "# Salvar o dataframe final\n",
    "df_final.to_csv(\"base_tratada.csv\", index=False)\n",
    "\n",
    "print(\"Base salva como 'base_tratada.csv'.\")"
   ]
  }
 ],
 "metadata": {
  "colab": {
   "provenance": []
  },
  "kernelspec": {
   "display_name": "Python 3 (ipykernel)",
   "language": "python",
   "name": "python3"
  },
  "language_info": {
   "codemirror_mode": {
    "name": "ipython",
    "version": 3
   },
   "file_extension": ".py",
   "mimetype": "text/x-python",
   "name": "python",
   "nbconvert_exporter": "python",
   "pygments_lexer": "ipython3",
   "version": "3.12.7"
  }
 },
 "nbformat": 4,
 "nbformat_minor": 4
}
