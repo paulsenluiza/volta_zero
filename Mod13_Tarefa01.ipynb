{
 "cells": [
  {
   "cell_type": "markdown",
   "metadata": {},
   "source": [
    "# EBAC - Regressão II - regressão múltipla\n",
    "\n",
    "## Tarefa I"
   ]
  },
  {
   "cell_type": "markdown",
   "metadata": {},
   "source": [
    "#### Previsão de renda\n",
    "\n",
    "Vamos trabalhar com a base 'previsao_de_renda.csv', que é a base do seu próximo projeto. Vamos usar os recursos que vimos até aqui nesta base.\n",
    "\n",
    "|variavel|descrição|\n",
    "|-|-|\n",
    "|data_ref                | Data de referência de coleta das variáveis |\n",
    "|index                   | Código de identificação do cliente|\n",
    "|sexo                    | Sexo do cliente|\n",
    "|posse_de_veiculo        | Indica se o cliente possui veículo|\n",
    "|posse_de_imovel         | Indica se o cliente possui imóvel|\n",
    "|qtd_filhos              | Quantidade de filhos do cliente|\n",
    "|tipo_renda              | Tipo de renda do cliente|\n",
    "|educacao                | Grau de instrução do cliente|\n",
    "|estado_civil            | Estado civil do cliente|\n",
    "|tipo_residencia         | Tipo de residência do cliente (própria, alugada etc)|\n",
    "|idade                   | Idade do cliente|\n",
    "|tempo_emprego           | Tempo no emprego atual|\n",
    "|qt_pessoas_residencia   | Quantidade de pessoas que moram na residência|\n",
    "|renda                   | Renda em reais|"
   ]
  },
  {
   "cell_type": "code",
   "execution_count": 3,
   "metadata": {},
   "outputs": [],
   "source": [
    "import pandas as pd\n",
    "import numpy as np\n",
    "import statsmodels.api as sm\n",
    "import statsmodels.formula.api as smf"
   ]
  },
  {
   "cell_type": "code",
   "execution_count": 4,
   "metadata": {},
   "outputs": [],
   "source": [
    "df = pd.read_csv('previsao_de_renda.csv')"
   ]
  },
  {
   "cell_type": "code",
   "execution_count": 5,
   "metadata": {},
   "outputs": [
    {
     "name": "stdout",
     "output_type": "stream",
     "text": [
      "<class 'pandas.core.frame.DataFrame'>\n",
      "RangeIndex: 15000 entries, 0 to 14999\n",
      "Data columns (total 15 columns):\n",
      " #   Column                 Non-Null Count  Dtype  \n",
      "---  ------                 --------------  -----  \n",
      " 0   Unnamed: 0             15000 non-null  int64  \n",
      " 1   data_ref               15000 non-null  object \n",
      " 2   id_cliente             15000 non-null  int64  \n",
      " 3   sexo                   15000 non-null  object \n",
      " 4   posse_de_veiculo       15000 non-null  bool   \n",
      " 5   posse_de_imovel        15000 non-null  bool   \n",
      " 6   qtd_filhos             15000 non-null  int64  \n",
      " 7   tipo_renda             15000 non-null  object \n",
      " 8   educacao               15000 non-null  object \n",
      " 9   estado_civil           15000 non-null  object \n",
      " 10  tipo_residencia        15000 non-null  object \n",
      " 11  idade                  15000 non-null  int64  \n",
      " 12  tempo_emprego          12427 non-null  float64\n",
      " 13  qt_pessoas_residencia  15000 non-null  float64\n",
      " 14  renda                  15000 non-null  float64\n",
      "dtypes: bool(2), float64(3), int64(4), object(6)\n",
      "memory usage: 1.5+ MB\n"
     ]
    }
   ],
   "source": [
    "df.info()"
   ]
  },
  {
   "cell_type": "markdown",
   "metadata": {},
   "source": [
    "1. Ajuste um modelo para prever log(renda) considerando todas as covariáveis disponíveis.\n",
    "    - Utilizando os recursos do Patsy, coloque as variáveis qualitativas como *dummies*.\n",
    "    - Mantenha sempre a categoria mais frequente como casela de referência\n",
    "    - Avalie os parâmetros e veja se parecem fazer sentido prático.  \n",
    "\n",
    "\n",
    "2. Remova a variável menos significante e analise:\n",
    "    - Observe os indicadores que vimos, e avalie se o modelo melhorou ou piorou na sua opinião.\n",
    "    - Observe os parâmetros e veja se algum se alterou muito.  \n",
    "\n",
    "\n",
    "3. Siga removendo as variáveis menos significantes, sempre que o *p-value* for menor que 5%. Compare o modelo final com o inicial. Observe os indicadores e conclua se o modelo parece melhor. \n",
    "    "
   ]
  },
  {
   "cell_type": "code",
   "execution_count": 6,
   "metadata": {},
   "outputs": [
    {
     "name": "stdout",
     "output_type": "stream",
     "text": [
      "                            OLS Regression Results                            \n",
      "==============================================================================\n",
      "Dep. Variable:              log_renda   R-squared:                       0.357\n",
      "Model:                            OLS   Adj. R-squared:                  0.356\n",
      "Method:                 Least Squares   F-statistic:                     287.5\n",
      "Date:                Tue, 08 Apr 2025   Prob (F-statistic):               0.00\n",
      "Time:                        15:33:27   Log-Likelihood:                -13568.\n",
      "No. Observations:               12427   AIC:                         2.719e+04\n",
      "Df Residuals:                   12402   BIC:                         2.737e+04\n",
      "Df Model:                          24                                         \n",
      "Covariance Type:            nonrobust                                         \n",
      "====================================================================================================\n",
      "                                       coef    std err          t      P>|t|      [0.025      0.975]\n",
      "----------------------------------------------------------------------------------------------------\n",
      "Intercept                            6.5847      0.235     28.006      0.000       6.124       7.046\n",
      "sexo[T.M]                            0.7874      0.015     53.723      0.000       0.759       0.816\n",
      "posse_de_veiculo[T.True]             0.0441      0.014      3.119      0.002       0.016       0.072\n",
      "posse_de_imovel[T.True]              0.0829      0.014      5.926      0.000       0.055       0.110\n",
      "tipo_renda[T.Bolsista]               0.2209      0.241      0.916      0.360      -0.252       0.694\n",
      "tipo_renda[T.Empresário]             0.1551      0.015     10.387      0.000       0.126       0.184\n",
      "tipo_renda[T.Pensionista]           -0.3087      0.241     -1.280      0.201      -0.782       0.164\n",
      "tipo_renda[T.Servidor público]       0.0576      0.022      2.591      0.010       0.014       0.101\n",
      "educacao[T.Pós graduação]            0.1071      0.159      0.673      0.501      -0.205       0.419\n",
      "educacao[T.Secundário]              -0.0141      0.072     -0.196      0.844      -0.155       0.127\n",
      "educacao[T.Superior completo]        0.0938      0.072      1.298      0.194      -0.048       0.235\n",
      "educacao[T.Superior incompleto]     -0.0432      0.078     -0.555      0.579      -0.196       0.109\n",
      "estado_civil[T.Separado]             0.3265      0.111      2.935      0.003       0.108       0.545\n",
      "estado_civil[T.Solteiro]             0.2672      0.109      2.453      0.014       0.054       0.481\n",
      "estado_civil[T.União]               -0.0343      0.025     -1.361      0.174      -0.084       0.015\n",
      "estado_civil[T.Viúvo]                0.3689      0.116      3.191      0.001       0.142       0.596\n",
      "tipo_residencia[T.Casa]             -0.0442      0.054     -0.815      0.415      -0.150       0.062\n",
      "tipo_residencia[T.Com os pais]      -0.0258      0.060     -0.427      0.670      -0.144       0.093\n",
      "tipo_residencia[T.Comunitário]      -0.1196      0.105     -1.135      0.256      -0.326       0.087\n",
      "tipo_residencia[T.Estúdio]           0.0665      0.099      0.670      0.503      -0.128       0.261\n",
      "tipo_residencia[T.Governamental]    -0.0571      0.066     -0.865      0.387      -0.186       0.072\n",
      "qtd_filhos                          -0.2658      0.108     -2.463      0.014      -0.477      -0.054\n",
      "idade                                0.0053      0.001      6.624      0.000       0.004       0.007\n",
      "tempo_emprego                        0.0617      0.001     59.398      0.000       0.060       0.064\n",
      "qt_pessoas_residencia                0.2926      0.108      2.716      0.007       0.081       0.504\n",
      "==============================================================================\n",
      "Omnibus:                        0.858   Durbin-Watson:                   2.023\n",
      "Prob(Omnibus):                  0.651   Jarque-Bera (JB):                0.839\n",
      "Skew:                           0.019   Prob(JB):                        0.657\n",
      "Kurtosis:                       3.012   Cond. No.                     2.18e+03\n",
      "==============================================================================\n",
      "\n",
      "Notes:\n",
      "[1] Standard Errors assume that the covariance matrix of the errors is correctly specified.\n",
      "[2] The condition number is large, 2.18e+03. This might indicate that there are\n",
      "strong multicollinearity or other numerical problems.\n"
     ]
    }
   ],
   "source": [
    "# Remover colunas irrelevantes\n",
    "df.drop(columns=['Unnamed: 0', 'data_ref', 'id_cliente'], inplace=True)\n",
    "\n",
    "# Remover linhas com valores nulos em tempo_emprego (opcionalmente podemos imputar também)\n",
    "df = df.dropna(subset=['tempo_emprego']).copy()\n",
    "\n",
    "# Aplicar log na renda\n",
    "df['log_renda'] = np.log(df['renda'])\n",
    "\n",
    "# Fórmula inicial (com todas as variáveis explicativas)\n",
    "formula = 'log_renda ~ sexo + posse_de_veiculo + posse_de_imovel + qtd_filhos + tipo_renda + educacao + estado_civil + tipo_residencia + idade + tempo_emprego + qt_pessoas_residencia'\n",
    "\n",
    "modelo_inicial = smf.ols(formula=formula, data=df).fit()\n",
    "print(modelo_inicial.summary())"
   ]
  },
  {
   "cell_type": "code",
   "execution_count": 9,
   "metadata": {},
   "outputs": [
    {
     "name": "stdout",
     "output_type": "stream",
     "text": [
      "                            OLS Regression Results                            \n",
      "==============================================================================\n",
      "Dep. Variable:              log_renda   R-squared:                       0.613\n",
      "Model:                            OLS   Adj. R-squared:                  0.612\n",
      "Method:                 Least Squares   F-statistic:                     817.1\n",
      "Date:                Tue, 08 Apr 2025   Prob (F-statistic):               0.00\n",
      "Time:                        15:35:26   Log-Likelihood:                -10424.\n",
      "No. Observations:               12427   AIC:                         2.090e+04\n",
      "Df Residuals:                   12402   BIC:                         2.108e+04\n",
      "Df Model:                          24                                         \n",
      "Covariance Type:            nonrobust                                         \n",
      "=========================================================================================================\n",
      "                                            coef    std err          t      P>|t|      [0.025      0.975]\n",
      "---------------------------------------------------------------------------------------------------------\n",
      "Intercept                                 6.8697      0.174     39.386      0.000       6.528       7.212\n",
      "posse_de_veiculo[T.True]                  0.0412      0.011      3.750      0.000       0.020       0.063\n",
      "posse_de_imovel[T.True]                   0.0613      0.011      5.641      0.000       0.040       0.083\n",
      "sexo_M[T.True]                            0.4290      0.012     35.596      0.000       0.405       0.453\n",
      "tipo_renda_Bolsista[T.True]               0.3015      0.187      1.610      0.107      -0.066       0.669\n",
      "tipo_renda_Empresario[T.True]             0.1062      0.012      9.147      0.000       0.083       0.129\n",
      "tipo_renda_Pensionista[T.True]           -0.1497      0.187     -0.799      0.424      -0.517       0.217\n",
      "tipo_renda_Servidor_publico[T.True]       0.0493      0.017      2.856      0.004       0.015       0.083\n",
      "educacao_Pos_graduacao[T.True]            0.0920      0.110      0.834      0.404      -0.124       0.308\n",
      "educacao_Superior_completo[T.True]        0.0706      0.011      6.550      0.000       0.049       0.092\n",
      "educacao_Superior_incompleto[T.True]     -0.0070      0.025     -0.278      0.781      -0.056       0.042\n",
      "estado_civil_Separado[T.True]             0.2579      0.086      2.985      0.003       0.089       0.427\n",
      "estado_civil_Solteiro[T.True]             0.2183      0.085      2.582      0.010       0.053       0.384\n",
      "estado_civil_Uniao[T.True]               -0.0059      0.020     -0.302      0.763      -0.044       0.032\n",
      "estado_civil_Viuvo[T.True]                0.3076      0.090      3.426      0.001       0.132       0.484\n",
      "tipo_residencia_Casa[T.True]             -0.0266      0.042     -0.633      0.527      -0.109       0.056\n",
      "tipo_residencia_Com_os_pais[T.True]      -0.0025      0.047     -0.053      0.958      -0.094       0.089\n",
      "tipo_residencia_Comunitario[T.True]      -0.0879      0.082     -1.076      0.282      -0.248       0.072\n",
      "tipo_residencia_Estudio[T.True]           0.0616      0.077      0.799      0.424      -0.090       0.213\n",
      "tipo_residencia_Governamental[T.True]    -0.0610      0.051     -1.190      0.234      -0.161       0.039\n",
      "qtd_filhos                               -0.1992      0.084     -2.377      0.017      -0.364      -0.035\n",
      "idade                                     0.0028      0.001      4.494      0.000       0.002       0.004\n",
      "tempo_emprego                             0.0288      0.001     32.571      0.000       0.027       0.031\n",
      "qt_pessoas_residencia                     0.2174      0.084      2.598      0.009       0.053       0.381\n",
      "renda                                  5.925e-05   6.56e-07     90.369      0.000     5.8e-05    6.05e-05\n",
      "==============================================================================\n",
      "Omnibus:                     7096.959   Durbin-Watson:                   2.017\n",
      "Prob(Omnibus):                  0.000   Jarque-Bera (JB):           260932.489\n",
      "Skew:                          -2.133   Prob(JB):                         0.00\n",
      "Kurtosis:                      25.039   Cond. No.                     5.44e+05\n",
      "==============================================================================\n",
      "\n",
      "Notes:\n",
      "[1] Standard Errors assume that the covariance matrix of the errors is correctly specified.\n",
      "[2] The condition number is large, 5.44e+05. This might indicate that there are\n",
      "strong multicollinearity or other numerical problems.\n"
     ]
    }
   ],
   "source": [
    "import unidecode\n",
    "\n",
    "# 1. Criar dummies\n",
    "df_dummies = pd.get_dummies(df, drop_first=True)\n",
    "\n",
    "# 2. Renomear colunas para remover acentos, espaços e caracteres especiais\n",
    "df_dummies.columns = [\n",
    "    unidecode.unidecode(col).replace(\" \", \"_\").replace(\"-\", \"_\")\n",
    "    for col in df_dummies.columns\n",
    "]\n",
    "\n",
    "# 3. Remover variável menos significativa do modelo anterior\n",
    "df_dummies = df_dummies.drop(columns=['educacao_Secundario'])\n",
    "\n",
    "# 4. Montar fórmula (sem crase agora, pois os nomes estão limpos)\n",
    "variaveis = \" + \".join([col for col in df_dummies.columns if col != 'log_renda'])\n",
    "formula2 = f\"log_renda ~ {variaveis}\"\n",
    "\n",
    "# 5. Ajustar o novo modelo\n",
    "modelo2 = smf.ols(formula=formula2, data=df_dummies).fit()\n",
    "print(modelo2.summary())"
   ]
  },
  {
   "cell_type": "markdown",
   "metadata": {},
   "source": [
    "O Modelo 2 apresentou melhora em todos os principais indicadores. "
   ]
  },
  {
   "cell_type": "code",
   "execution_count": null,
   "metadata": {},
   "outputs": [],
   "source": []
  }
 ],
 "metadata": {
  "kernelspec": {
   "display_name": "Python 3 (ipykernel)",
   "language": "python",
   "name": "python3"
  },
  "language_info": {
   "codemirror_mode": {
    "name": "ipython",
    "version": 3
   },
   "file_extension": ".py",
   "mimetype": "text/x-python",
   "name": "python",
   "nbconvert_exporter": "python",
   "pygments_lexer": "ipython3",
   "version": "3.12.7"
  }
 },
 "nbformat": 4,
 "nbformat_minor": 4
}
