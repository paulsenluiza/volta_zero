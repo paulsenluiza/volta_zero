{
 "cells": [
  {
   "cell_type": "markdown",
   "id": "7bd58f88-20a2-42a8-bdcd-a4579a56dd5f",
   "metadata": {},
   "source": [
    "<h1 style=\"color:blue;\"><b>Fórmula de Bhaskara</b></h1>\n",
    "\n",
    "A solução para uma função de segundo grau depende das suas raízes (valores de x). Como já vimos, os coeficientes precisam ser números reais e o angular diferente de zero. Sendo assim, temos a seguinte fórmula de Bhaskara:\n",
    "\n",
    "$$\n",
    "x = \\frac{-b \\pm \\sqrt{b^2 - 4 \\cdot a \\cdot c}}{2 \\cdot a}\n",
    "$$\n",
    "\n",
    "<center><i>Fórmula de Bhaskara.</i></center>\n",
    "\n",
    "Para melhor compreensão, o seu cálculo é dividido em duas partes: discriminante da equação e operações para determinar as raízes.\n",
    "\n",
    "---\n",
    "\n",
    "<h2><b>Discriminante</b></h2>\n",
    "\n",
    "A figura dentro da raiz na fórmula de Bhaskara é nomeada de discriminante. Seu símbolo é a letra grega delta e apresenta a determinada fórmula:\n",
    "\n",
    "$$\n",
    "\\Delta = b^2 - 4 \\cdot a \\cdot c\n",
    "$$\n",
    "\n",
    "<center><i>Fórmula do discriminante.</i></center>\n",
    "\n",
    "- Se o delta for maior que zero, a equação terá dois valores reais e distintos.  \n",
    "- Se o delta for igual a zero, a equação terá somente um valor real ou dois resultados iguais.  \n",
    "- Se o delta for menor que zero, a equação não possuirá valores reais.\n"
   ]
  }
 ],
 "metadata": {
  "kernelspec": {
   "display_name": "Python 3 (ipykernel)",
   "language": "python",
   "name": "python3"
  },
  "language_info": {
   "codemirror_mode": {
    "name": "ipython",
    "version": 3
   },
   "file_extension": ".py",
   "mimetype": "text/x-python",
   "name": "python",
   "nbconvert_exporter": "python",
   "pygments_lexer": "ipython3",
   "version": "3.12.7"
  }
 },
 "nbformat": 4,
 "nbformat_minor": 5
}
