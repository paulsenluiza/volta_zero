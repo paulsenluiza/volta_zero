{
 "cells": [
  {
   "cell_type": "markdown",
   "metadata": {},
   "source": [
    "# Cálculo - Tarefa 02\n",
    "\n",
    "1- Calcule de forma numérica a integral da função $x^3$ avaliada entre os pontos $1$ e $2$. Identifique o número de retângulos que você usou.  \n",
    "2- Calcule essa área de forma analítica."
   ]
  },
  {
   "cell_type": "code",
   "execution_count": 1,
   "metadata": {},
   "outputs": [
    {
     "name": "stdout",
     "output_type": "stream",
     "text": [
      "Aproximação numérica com 4 retângulos: 2.921875\n",
      "Resultado analítico exato: 15/4\n"
     ]
    }
   ],
   "source": [
    "import numpy as np\n",
    "import sympy as sp\n",
    "\n",
    "# 1. Cálculo numérico com Riemann (método dos retângulos à esquerda)\n",
    "def riemann_integral_left(f, a, b, n):\n",
    "    x = np.linspace(a, b - (b - a)/n, n)  # pontos à esquerda\n",
    "    dx = (b - a) / n\n",
    "    area = np.sum(f(x)) * dx\n",
    "    return area\n",
    "\n",
    "# Função f(x) = x^3\n",
    "f = lambda x: x**3\n",
    "\n",
    "# Intervalo e número de retângulos\n",
    "a, b = 1, 2\n",
    "n = 4\n",
    "\n",
    "area_numerica = riemann_integral_left(f, a, b, n)\n",
    "print(f\"Aproximação numérica com {n} retângulos: {area_numerica:.6f}\")\n",
    "\n",
    "# 2. Cálculo analítico com sympy\n",
    "x = sp.Symbol('x')\n",
    "integral_analitica = sp.integrate(x**3, (x, a, b))\n",
    "print(f\"Resultado analítico exato: {integral_analitica}\")\n"
   ]
  }
 ],
 "metadata": {
  "kernelspec": {
   "display_name": "Python 3 (ipykernel)",
   "language": "python",
   "name": "python3"
  },
  "language_info": {
   "codemirror_mode": {
    "name": "ipython",
    "version": 3
   },
   "file_extension": ".py",
   "mimetype": "text/x-python",
   "name": "python",
   "nbconvert_exporter": "python",
   "pygments_lexer": "ipython3",
   "version": "3.12.7"
  },
  "toc": {
   "base_numbering": 1,
   "nav_menu": {},
   "number_sections": true,
   "sideBar": true,
   "skip_h1_title": true,
   "title_cell": "Índice",
   "title_sidebar": "Conteúdo",
   "toc_cell": false,
   "toc_position": {},
   "toc_section_display": true,
   "toc_window_display": false
  },
  "varInspector": {
   "cols": {
    "lenName": 16,
    "lenType": 16,
    "lenVar": 40
   },
   "kernels_config": {
    "python": {
     "delete_cmd_postfix": "",
     "delete_cmd_prefix": "del ",
     "library": "var_list.py",
     "varRefreshCmd": "print(var_dic_list())"
    },
    "r": {
     "delete_cmd_postfix": ") ",
     "delete_cmd_prefix": "rm(",
     "library": "var_list.r",
     "varRefreshCmd": "cat(var_dic_list()) "
    }
   },
   "types_to_exclude": [
    "module",
    "function",
    "builtin_function_or_method",
    "instance",
    "_Feature"
   ],
   "window_display": false
  }
 },
 "nbformat": 4,
 "nbformat_minor": 4
}
