{
 "cells": [
  {
   "cell_type": "markdown",
   "metadata": {},
   "source": [
    "# Módulo 5 Tarefa 1\n",
    "## Base de nascidos vivos do DataSUS\n",
    "O DataSUS disponibiliza diversos arquivos de dados com relação a seus segurados, conforme a [lei da transparência de informações públicas](https://www.sisgov.com/transparencia-acesso-informacao/#:~:text=A%20Lei%20da%20Transpar%C3%AAncia%20(LC,em%20um%20site%20na%20internet.). \n",
    "\n",
    "Essas informações podem ser obtidas pela internet [aqui](http://www2.datasus.gov.br/DATASUS/index.php?area=0901&item=1). Como o processo de obtenção desses arquivos foge um pouco do nosso escopo, deixamos o arquivo SINASC_RO_2019.csv` já como vai ser encontrado no DataSUS. O dicionário de dados está no arquivo `estrutura_sinasc_para_CD.pdf` (o nome do arquivo tal qual no portal do DataSUS).\n",
    "\n",
    "### Nosso objetivo\n",
    "Queremos deixar uma base organizada para podermos estudar a relação entre partos com risco para o bebê e algumas condições como tempo de parto, consultas de pré-natal etc.\n",
    "\n",
    "#### Preparação da base\n",
    "1. Carregue a base 'SINASC_RO_2019.csv'. Conte o número de registros e o número de registros não duplicados da base. Dica: você aprendeu um método que remove duplicados, encadeie este método com um outro método que conta o número de linhas. **Há linhas duplicadas?**  \n",
    "\n",
    "2. Conte o número de valores *missing* por variável.  \n",
    "\n",
    "3. Ok, no item anterior você deve ter achado pouco prático ler a informação de tantas variáveis, muitas delas nem devem ser interesantes. Então crie uma seleção dessa base somente com as colunas que interessam. São elas:\n",
    "` \n",
    "['LOCNASC', 'IDADEMAE', 'ESTCIVMAE', 'ESCMAE', 'QTDFILVIVO', \n",
    "    'GESTACAO', 'GRAVIDEZ', 'CONSULTAS', 'APGAR5'] \n",
    "`\n",
    "Refaça a contagem de valores *missings*.  \n",
    "\n",
    "4. Apgar é uma *nota* que o pediatra dá ao bebê quando nasce de acordo com algumas características associadas principalmente à respiração. Apgar 1 e Apgar 5 são as notas 1 e 5 minutos do nascimento. Apgar5 será a nossa variável de interesse principal. Então remova todos os registros com Apgar5 não preenchido. Para esta seleção, conte novamente o número de linhas e o número de *missings*.  \n",
    "\n",
    "5. observe que as variáveis `['ESTCIVMAE', 'CONSULTAS']` possuem o código `9`, que significa *ignorado*. Vamos assumir que o não preenchido é o mesmo que o código `9`.<br>\n",
    "6. Substitua os valores faltantes da quantitativa (`QTDFILVIVO`) por zero.  \n",
    "7. Das restantes, decida que valore te parece mais adequado (um 'não preenchido' ou um valor 'mais provável' como no item anterior) e preencha. Justifique. Lembre-se de que tratamento de dados é trabalho do cientista, e que estamos tomando decisões a todo o momento - não há necessariamente certo e errado aqui.  \n",
    "8. O Apgar possui uma classificação indicando se o bebê passou por asfixia:\n",
    "- Entre 8 e 10 está em uma faixa 'normal'. \n",
    "- Entre 6 e 7, significa que o recém-nascido passou por 'asfixia leve'. \n",
    "- Entre 4 e 5 significa 'asfixia moderada'.\n",
    "- Entre 0 e 3 significa 'asfixia severa'.  \n",
    "\n",
    "Crie uma categorização dessa variável com essa codificação e calcule as frequências dessa categorização.  \n",
    "<br>\n",
    "9. Renomeie as variáveis para que fiquem no *snake case*, ou seja, em letras minúsculas, com um *underscore* entre as palávras. Dica: repare que se você não quiser criar um *dataframe* novo, você vai precisar usar a opção `inplace = True`."
   ]
  },
  {
   "cell_type": "code",
   "execution_count": 13,
   "metadata": {},
   "outputs": [
    {
     "name": "stdout",
     "output_type": "stream",
     "text": [
      "Formato original (linhas, colunas): (27028, 69)\n",
      "Formato sem duplicatas: (27028, 69)\n",
      "Não há duplicatas.\n"
     ]
    }
   ],
   "source": [
    "import pandas as pd\n",
    "import requests\n",
    "\n",
    "# 1) Carregar o arquivo\n",
    "sinasc = pd.read_csv('SINASC_RO_2019.csv')\n",
    "\n",
    "# Mostrar o número total de registros (linhas, colunas)\n",
    "print(\"Formato original (linhas, colunas):\", sinasc.shape)\n",
    "\n",
    "# Verificar o número de registros únicos (sem duplicatas)\n",
    "registros_unicos = sinasc.drop_duplicates().shape\n",
    "print(\"Formato sem duplicatas:\", registros_unicos)\n",
    "\n",
    "# Conclusão\n",
    "if sinasc.shape[0] == registros_unicos[0]:\n",
    "    print(\"Não há duplicatas.\")\n",
    "else:\n",
    "    print(\"Existem duplicatas.\")"
   ]
  },
  {
   "cell_type": "code",
   "execution_count": 14,
   "metadata": {},
   "outputs": [
    {
     "name": "stdout",
     "output_type": "stream",
     "text": [
      "DTRECORIGA    27028\n",
      "CODANOMAL     26814\n",
      "IDADEPAI      19421\n",
      "SERIESCMAE    12710\n",
      "DTULTMENST    10072\n",
      "CODOCUPMAE     2907\n",
      "MESPRENAT      2867\n",
      "QTDFILMORT     2098\n",
      "QTDPARTNOR     1879\n",
      "QTDPARTCES     1791\n",
      "QTDFILVIVO     1573\n",
      "TPMETESTIM     1238\n",
      "SEMAGESTAC     1238\n",
      "GESTACAO       1232\n",
      "QTDGESTANT     1212\n",
      "STTRABPART      947\n",
      "CONSPRENAT      930\n",
      "STCESPARTO      747\n",
      "RACACORMAE      661\n",
      "RACACOR         647\n",
      "IDANOMAL        591\n",
      "ESTCIVMAE       317\n",
      "ESCMAE          312\n",
      "CODMUNNATU      298\n",
      "NATURALMAE      298\n",
      "CODUFNATU       298\n",
      "TPAPRESENT      265\n",
      "ESCMAE2010      249\n",
      "ESCMAEAGR1      249\n",
      "CODESTAB        115\n",
      "APGAR5          103\n",
      "APGAR1           96\n",
      "GRAVIDEZ         79\n",
      "TPFUNCRESP       67\n",
      "TPNASCASSI       61\n",
      "DTDECLARAC       52\n",
      "PARTO            49\n",
      "DTNASCMAE        40\n",
      "HORANASC         21\n",
      "TPDOCRESP        14\n",
      "SEXO              4\n",
      "munResLon         1\n",
      "munResAlt         1\n",
      "munResLat         1\n",
      "munResArea        1\n",
      "dtype: int64\n"
     ]
    }
   ],
   "source": [
    "# 2) Contar o número de valores missing (NaN) por variável\n",
    "missing_por_coluna = sinasc.isnull().sum().sort_values(ascending=False)\n",
    "\n",
    "# Exibir apenas as variáveis que têm pelo menos 1 valor ausente\n",
    "print(missing_por_coluna[missing_por_coluna > 0])\n"
   ]
  },
  {
   "cell_type": "code",
   "execution_count": 15,
   "metadata": {},
   "outputs": [
    {
     "name": "stdout",
     "output_type": "stream",
     "text": [
      "QTDFILVIVO    1573\n",
      "GESTACAO      1232\n",
      "ESTCIVMAE      317\n",
      "ESCMAE         312\n",
      "APGAR5         103\n",
      "GRAVIDEZ        79\n",
      "dtype: int64\n"
     ]
    }
   ],
   "source": [
    "colunas_interesse = [\n",
    "    'LOCNASC', 'IDADEMAE', 'ESTCIVMAE', 'ESCMAE', 'QTDFILVIVO',\n",
    "    'GESTACAO', 'GRAVIDEZ', 'CONSULTAS', 'APGAR5'\n",
    "] \n",
    "\n",
    "# 3) Selecionar apenas as colunas de interesse\n",
    "sinasc_reduzido = sinasc[colunas_interesse].copy()\n",
    "\n",
    "# Contar valores missing nessas colunas\n",
    "missing_reduzido = sinasc_reduzido.isnull().sum().sort_values(ascending=False)\n",
    "print(missing_reduzido[missing_reduzido > 0])"
   ]
  },
  {
   "cell_type": "code",
   "execution_count": 16,
   "metadata": {},
   "outputs": [
    {
     "name": "stdout",
     "output_type": "stream",
     "text": [
      "Número de linhas após remover APGAR5 ausente: 26925\n",
      "Valores missing restantes:\n",
      "QTDFILVIVO    1566\n",
      "GESTACAO      1216\n",
      "ESTCIVMAE      315\n",
      "ESCMAE         310\n",
      "GRAVIDEZ        76\n",
      "LOCNASC          0\n",
      "IDADEMAE         0\n",
      "CONSULTAS        0\n",
      "APGAR5           0\n",
      "dtype: int64\n"
     ]
    }
   ],
   "source": [
    "# 4) Remover registros com APGAR5 ausente\n",
    "sinasc_apgar = sinasc_reduzido.dropna(subset=['APGAR5'])\n",
    "\n",
    "# Contar número de linhas após remoção\n",
    "print(\"Número de linhas após remover APGAR5 ausente:\", len(sinasc_apgar))\n",
    "\n",
    "# Verificar se ainda há valores missing\n",
    "print(\"Valores missing restantes:\")\n",
    "print(sinasc_apgar.isnull().sum().sort_values(ascending=False))"
   ]
  },
  {
   "cell_type": "code",
   "execution_count": 17,
   "metadata": {},
   "outputs": [
    {
     "name": "stdout",
     "output_type": "stream",
     "text": [
      "ESTCIVMAE    0\n",
      "CONSULTAS    0\n",
      "dtype: int64\n"
     ]
    }
   ],
   "source": [
    "# 5) Substituir NaN por 9 em ESTCIVMAE e CONSULTAS, sem warning\n",
    "sinasc_apgar.loc[:, 'ESTCIVMAE'] = sinasc_apgar['ESTCIVMAE'].fillna(9)\n",
    "sinasc_apgar.loc[:, 'CONSULTAS'] = sinasc_apgar['CONSULTAS'].fillna(9)\n",
    "\n",
    "# Verificar se deu certo\n",
    "print(sinasc_apgar[['ESTCIVMAE', 'CONSULTAS']].isnull().sum())\n"
   ]
  },
  {
   "cell_type": "code",
   "execution_count": 18,
   "metadata": {
    "scrolled": true
   },
   "outputs": [
    {
     "name": "stdout",
     "output_type": "stream",
     "text": [
      "Missing em QTDFILVIVO: 0\n"
     ]
    }
   ],
   "source": [
    "# 6) Substituir valores ausentes em QTDFILVIVO por 0\n",
    "sinasc_apgar.loc[:, 'QTDFILVIVO'] = sinasc_apgar['QTDFILVIVO'].fillna(0)\n",
    "\n",
    "# Verificar se ainda há valores ausentes nessa coluna\n",
    "print(\"Missing em QTDFILVIVO:\", sinasc_apgar['QTDFILVIVO'].isnull().sum())\n"
   ]
  },
  {
   "cell_type": "code",
   "execution_count": 20,
   "metadata": {},
   "outputs": [
    {
     "name": "stdout",
     "output_type": "stream",
     "text": [
      "Series([], dtype: int64)\n",
      "LOCNASC       0\n",
      "IDADEMAE      0\n",
      "ESTCIVMAE     0\n",
      "ESCMAE        0\n",
      "QTDFILVIVO    0\n",
      "GESTACAO      0\n",
      "GRAVIDEZ      0\n",
      "CONSULTAS     0\n",
      "APGAR5        0\n",
      "dtype: int64\n"
     ]
    }
   ],
   "source": [
    "# 7)  Verificar variáveis restantes com valores ausentes\n",
    "missing_restantes = sinasc_apgar.isnull().sum()\n",
    "print(missing_restantes[missing_restantes > 0])\n",
    "\n",
    "# Preencher ESCMAE com 9 (ignorado)\n",
    "sinasc_apgar.loc[:, 'ESCMAE'] = sinasc_apgar['ESCMAE'].fillna(9)\n",
    "\n",
    "# Preencher GESTACAO com 9 (ignorado)\n",
    "sinasc_apgar.loc[:, 'GESTACAO'] = sinasc_apgar['GESTACAO'].fillna(9)\n",
    "\n",
    "# Preencher GRAVIDEZ com 1 (valor mais provável)\n",
    "sinasc_apgar.loc[:, 'GRAVIDEZ'] = sinasc_apgar['GRAVIDEZ'].fillna(1)\n",
    "\n",
    "# Verificar se ainda há valores ausentes\n",
    "print(sinasc_apgar.isnull().sum().sort_values(ascending=False))\n"
   ]
  },
  {
   "cell_type": "code",
   "execution_count": 22,
   "metadata": {},
   "outputs": [
    {
     "name": "stdout",
     "output_type": "stream",
     "text": [
      "APGAR5_CATEGORIA\n",
      "normal              26463\n",
      "asfixia leve          320\n",
      "asfixia severa         74\n",
      "asfixia moderada       68\n",
      "Name: count, dtype: int64\n"
     ]
    }
   ],
   "source": [
    "# 8) Criar uma cópia explícita para evitar warnings\n",
    "sinasc_apgar = sinasc_apgar.copy()\n",
    "\n",
    "# Função de categorização de Apgar5\n",
    "def classificar_apgar(valor):\n",
    "    if valor >= 8:\n",
    "        return 'normal'\n",
    "    elif valor >= 6:\n",
    "        return 'asfixia leve'\n",
    "    elif valor >= 4:\n",
    "        return 'asfixia moderada'\n",
    "    else:\n",
    "        return 'asfixia severa'\n",
    "\n",
    "# Aplicar a função e salvar a nova variável\n",
    "sinasc_apgar['APGAR5_CATEGORIA'] = sinasc_apgar['APGAR5'].apply(classificar_apgar)\n",
    "\n",
    "# Mostrar frequência das categorias\n",
    "print(sinasc_apgar['APGAR5_CATEGORIA'].value_counts())"
   ]
  },
  {
   "cell_type": "code",
   "execution_count": 23,
   "metadata": {},
   "outputs": [
    {
     "name": "stdout",
     "output_type": "stream",
     "text": [
      "['locnasc', 'idademae', 'estcivmae', 'escmae', 'qtdfilvivo', 'gestacao', 'gravidez', 'consultas', 'apgar5', 'apgar5_categoria']\n"
     ]
    }
   ],
   "source": [
    "# 9) Renomear colunas para snake_case\n",
    "sinasc_apgar.rename(\n",
    "    columns=lambda col: col.strip().lower().replace(\" \", \"_\"), \n",
    "    inplace=True\n",
    ")\n",
    "\n",
    "# Visualizar as novas colunas\n",
    "print(sinasc_apgar.columns.tolist())\n"
   ]
  }
 ],
 "metadata": {
  "kernelspec": {
   "display_name": "Python 3 (ipykernel)",
   "language": "python",
   "name": "python3"
  },
  "language_info": {
   "codemirror_mode": {
    "name": "ipython",
    "version": 3
   },
   "file_extension": ".py",
   "mimetype": "text/x-python",
   "name": "python",
   "nbconvert_exporter": "python",
   "pygments_lexer": "ipython3",
   "version": "3.12.7"
  }
 },
 "nbformat": 4,
 "nbformat_minor": 4
}
