{
 "cells": [
  {
   "cell_type": "markdown",
   "metadata": {},
   "source": [
    "# Regressão 01 - tarefa 02 - transformações em X e Y"
   ]
  },
  {
   "cell_type": "markdown",
   "metadata": {},
   "source": [
    "### 1. Melhorando o ajuste no percentual de gorjetas\n",
    "\n",
    "a. Vamos partir do modelo feito na última tarefa, o que relaciona ```tip_pct``` e ```net_bill```. Carregue a base, os pacotes e reproduza este modelo aqui."
   ]
  },
  {
   "cell_type": "code",
   "execution_count": 3,
   "metadata": {},
   "outputs": [
    {
     "name": "stdout",
     "output_type": "stream",
     "text": [
      "                            OLS Regression Results                            \n",
      "==============================================================================\n",
      "Dep. Variable:                tip_pct   R-squared:                       0.091\n",
      "Model:                            OLS   Adj. R-squared:                  0.088\n",
      "Method:                 Least Squares   F-statistic:                     24.31\n",
      "Date:                Mon, 07 Apr 2025   Prob (F-statistic):           1.52e-06\n",
      "Time:                        16:42:37   Log-Likelihood:                 108.00\n",
      "No. Observations:                 244   AIC:                            -212.0\n",
      "Df Residuals:                     242   BIC:                            -205.0\n",
      "Df Model:                           1                                         \n",
      "Covariance Type:            nonrobust                                         \n",
      "==============================================================================\n",
      "                 coef    std err          t      P>|t|      [0.025      0.975]\n",
      "------------------------------------------------------------------------------\n",
      "Intercept      0.3053      0.023     13.166      0.000       0.260       0.351\n",
      "net_bill      -0.0061      0.001     -4.931      0.000      -0.009      -0.004\n",
      "==============================================================================\n",
      "Omnibus:                      468.674   Durbin-Watson:                   1.987\n",
      "Prob(Omnibus):                  0.000   Jarque-Bera (JB):           234437.604\n",
      "Skew:                          11.104   Prob(JB):                         0.00\n",
      "Kurtosis:                     153.221   Cond. No.                         43.3\n",
      "==============================================================================\n",
      "\n",
      "Notes:\n",
      "[1] Standard Errors assume that the covariance matrix of the errors is correctly specified.\n"
     ]
    }
   ],
   "source": [
    "import pandas as pd\n",
    "import seaborn as sns\n",
    "import numpy as np\n",
    "import statsmodels.formula.api as smf\n",
    "\n",
    "# Carregando a base de dados \"tips\"\n",
    "tips = sns.load_dataset(\"tips\")\n",
    "\n",
    "# Criando as variáveis auxiliares\n",
    "tips['net_bill'] = tips['total_bill'] - tips['tip']\n",
    "tips['tip_pct'] = tips['tip'] / tips['net_bill']\n",
    "\n",
    "# Ajustando o modelo de regressão tip_pct ~ net_bill\n",
    "reg = smf.ols('tip_pct ~ net_bill', data=tips).fit()\n",
    "\n",
    "# Exibindo o resumo do modelo\n",
    "print(reg.summary())\n"
   ]
  },
  {
   "cell_type": "markdown",
   "metadata": {},
   "source": [
    "### 2. ajuste o modelo de ```tip_pct``` em função do logaritmo de ```net_bill```."
   ]
  },
  {
   "cell_type": "code",
   "execution_count": 4,
   "metadata": {},
   "outputs": [
    {
     "name": "stdout",
     "output_type": "stream",
     "text": [
      "                            OLS Regression Results                            \n",
      "==============================================================================\n",
      "Dep. Variable:                tip_pct   R-squared:                       0.202\n",
      "Model:                            OLS   Adj. R-squared:                  0.198\n",
      "Method:                 Least Squares   F-statistic:                     61.16\n",
      "Date:                Mon, 07 Apr 2025   Prob (F-statistic):           1.62e-13\n",
      "Time:                        16:42:46   Log-Likelihood:                 123.81\n",
      "No. Observations:                 244   AIC:                            -243.6\n",
      "Df Residuals:                     242   BIC:                            -236.6\n",
      "Df Model:                           1                                         \n",
      "Covariance Type:            nonrobust                                         \n",
      "================================================================================\n",
      "                   coef    std err          t      P>|t|      [0.025      0.975]\n",
      "--------------------------------------------------------------------------------\n",
      "Intercept        0.6181      0.054     11.444      0.000       0.512       0.724\n",
      "log_net_bill    -0.1534      0.020     -7.820      0.000      -0.192      -0.115\n",
      "==============================================================================\n",
      "Omnibus:                      440.899   Durbin-Watson:                   1.965\n",
      "Prob(Omnibus):                  0.000   Jarque-Bera (JB):           171509.052\n",
      "Skew:                           9.850   Prob(JB):                         0.00\n",
      "Kurtosis:                     131.381   Cond. No.                         17.9\n",
      "==============================================================================\n",
      "\n",
      "Notes:\n",
      "[1] Standard Errors assume that the covariance matrix of the errors is correctly specified.\n"
     ]
    }
   ],
   "source": [
    "# Criar a nova variável: logaritmo de net_bill\n",
    "tips['log_net_bill'] = np.log(tips['net_bill'])\n",
    "\n",
    "# Ajustar o modelo: tip_pct ~ log(net_bill)\n",
    "reg_log = smf.ols('tip_pct ~ log_net_bill', data=tips).fit()\n",
    "\n",
    "# Exibir o resumo do modelo ajustado\n",
    "print(reg_log.summary())"
   ]
  },
  {
   "cell_type": "markdown",
   "metadata": {},
   "source": [
    "###  3. ajuste o modelo de ```tip_pct``` em função de um polinômio de segundo grau em ```net_bill```."
   ]
  },
  {
   "cell_type": "code",
   "execution_count": 5,
   "metadata": {},
   "outputs": [
    {
     "name": "stdout",
     "output_type": "stream",
     "text": [
      "                            OLS Regression Results                            \n",
      "==============================================================================\n",
      "Dep. Variable:                tip_pct   R-squared:                       0.158\n",
      "Model:                            OLS   Adj. R-squared:                  0.151\n",
      "Method:                 Least Squares   F-statistic:                     22.55\n",
      "Date:                Mon, 07 Apr 2025   Prob (F-statistic):           1.06e-09\n",
      "Time:                        16:43:08   Log-Likelihood:                 117.25\n",
      "No. Observations:                 244   AIC:                            -228.5\n",
      "Df Residuals:                     241   BIC:                            -218.0\n",
      "Df Model:                           2                                         \n",
      "Covariance Type:            nonrobust                                         \n",
      "===============================================================================\n",
      "                  coef    std err          t      P>|t|      [0.025      0.975]\n",
      "-------------------------------------------------------------------------------\n",
      "Intercept       0.4851      0.047     10.332      0.000       0.393       0.578\n",
      "net_bill       -0.0268      0.005     -5.477      0.000      -0.036      -0.017\n",
      "net_bill_sq     0.0005      0.000      4.356      0.000       0.000       0.001\n",
      "==============================================================================\n",
      "Omnibus:                      447.620   Durbin-Watson:                   2.026\n",
      "Prob(Omnibus):                  0.000   Jarque-Bera (JB):           186035.672\n",
      "Skew:                          10.140   Prob(JB):                         0.00\n",
      "Kurtosis:                     136.744   Cond. No.                     2.42e+03\n",
      "==============================================================================\n",
      "\n",
      "Notes:\n",
      "[1] Standard Errors assume that the covariance matrix of the errors is correctly specified.\n",
      "[2] The condition number is large, 2.42e+03. This might indicate that there are\n",
      "strong multicollinearity or other numerical problems.\n"
     ]
    }
   ],
   "source": [
    "# Criar os termos polinomiais\n",
    "tips['net_bill_sq'] = tips['net_bill'] ** 2\n",
    "\n",
    "# Ajustar o modelo: tip_pct ~ net_bill + net_bill^2\n",
    "reg_poly2 = smf.ols('tip_pct ~ net_bill + net_bill_sq', data=tips).fit()\n",
    "\n",
    "# Exibir o resumo do modelo ajustado\n",
    "print(reg_poly2.summary())"
   ]
  },
  {
   "cell_type": "markdown",
   "metadata": {},
   "source": [
    "###  4. ajuste um modelo no log do ```tip_pct``` em função de ```net_bill```. Calcule o $R^2$ também em ```tip_pct```"
   ]
  },
  {
   "cell_type": "code",
   "execution_count": 6,
   "metadata": {},
   "outputs": [
    {
     "name": "stdout",
     "output_type": "stream",
     "text": [
      "                            OLS Regression Results                            \n",
      "==============================================================================\n",
      "Dep. Variable:            log_tip_pct   R-squared:                       0.235\n",
      "Model:                            OLS   Adj. R-squared:                  0.232\n",
      "Method:                 Least Squares   F-statistic:                     74.48\n",
      "Date:                Mon, 07 Apr 2025   Prob (F-statistic):           8.27e-16\n",
      "Time:                        16:43:29   Log-Likelihood:                -106.00\n",
      "No. Observations:                 244   AIC:                             216.0\n",
      "Df Residuals:                     242   BIC:                             223.0\n",
      "Df Model:                           1                                         \n",
      "Covariance Type:            nonrobust                                         \n",
      "==============================================================================\n",
      "                 coef    std err          t      P>|t|      [0.025      0.975]\n",
      "------------------------------------------------------------------------------\n",
      "Intercept     -1.2749      0.056    -22.872      0.000      -1.385      -1.165\n",
      "net_bill      -0.0259      0.003     -8.630      0.000      -0.032      -0.020\n",
      "==============================================================================\n",
      "Omnibus:                       49.929   Durbin-Watson:                   1.938\n",
      "Prob(Omnibus):                  0.000   Jarque-Bera (JB):              258.392\n",
      "Skew:                           0.664   Prob(JB):                     7.78e-57\n",
      "Kurtosis:                       7.864   Cond. No.                         43.3\n",
      "==============================================================================\n",
      "\n",
      "Notes:\n",
      "[1] Standard Errors assume that the covariance matrix of the errors is correctly specified.\n",
      "\n",
      "R² na escala original de tip_pct: 0.0868\n"
     ]
    }
   ],
   "source": [
    "# Evitar valores nulos ou negativos para aplicar log\n",
    "tips = tips[tips['tip_pct'] > 0].copy()\n",
    "\n",
    "# Criar variável log(tip_pct)\n",
    "tips['log_tip_pct'] = np.log(tips['tip_pct'])\n",
    "\n",
    "# Ajustar o modelo: log(tip_pct) ~ net_bill\n",
    "reg_log_tip = smf.ols('log_tip_pct ~ net_bill', data=tips).fit()\n",
    "\n",
    "# Exibir o resumo do modelo ajustado\n",
    "print(reg_log_tip.summary())\n",
    "\n",
    "# Obter predições na escala logarítmica\n",
    "pred_log = reg_log_tip.fittedvalues\n",
    "\n",
    "# Voltar para escala original\n",
    "pred_tip_pct = np.exp(pred_log)\n",
    "\n",
    "# Calcular R² manualmente na escala de tip_pct\n",
    "from sklearn.metrics import r2_score\n",
    "r2_original = r2_score(tips['tip_pct'], pred_tip_pct)\n",
    "\n",
    "print(f\"\\nR² na escala original de tip_pct: {r2_original:.4f}\")\n"
   ]
  },
  {
   "cell_type": "markdown",
   "metadata": {},
   "source": [
    "###  5. ajuste um modelo no log do ```tip_pct``` em função do log de ```net_bill```. Calcule o $R^2$ também em ```tip_pct```."
   ]
  },
  {
   "cell_type": "code",
   "execution_count": 7,
   "metadata": {},
   "outputs": [
    {
     "name": "stdout",
     "output_type": "stream",
     "text": [
      "                            OLS Regression Results                            \n",
      "==============================================================================\n",
      "Dep. Variable:            log_tip_pct   R-squared:                       0.293\n",
      "Model:                            OLS   Adj. R-squared:                  0.291\n",
      "Method:                 Least Squares   F-statistic:                     100.5\n",
      "Date:                Mon, 07 Apr 2025   Prob (F-statistic):           5.20e-20\n",
      "Time:                        16:43:56   Log-Likelihood:                -96.357\n",
      "No. Observations:                 244   AIC:                             196.7\n",
      "Df Residuals:                     242   BIC:                             203.7\n",
      "Df Model:                           1                                         \n",
      "Covariance Type:            nonrobust                                         \n",
      "================================================================================\n",
      "                   coef    std err          t      P>|t|      [0.025      0.975]\n",
      "--------------------------------------------------------------------------------\n",
      "Intercept       -0.3942      0.133     -2.961      0.003      -0.657      -0.132\n",
      "log_net_bill    -0.4849      0.048    -10.026      0.000      -0.580      -0.390\n",
      "==============================================================================\n",
      "Omnibus:                       12.633   Durbin-Watson:                   1.976\n",
      "Prob(Omnibus):                  0.002   Jarque-Bera (JB):               28.054\n",
      "Skew:                           0.141   Prob(JB):                     8.10e-07\n",
      "Kurtosis:                       4.637   Cond. No.                         17.9\n",
      "==============================================================================\n",
      "\n",
      "Notes:\n",
      "[1] Standard Errors assume that the covariance matrix of the errors is correctly specified.\n",
      "\n",
      "R² na escala original de tip_pct (modelo log-log): 0.2277\n"
     ]
    }
   ],
   "source": [
    "# Certificar-se de que os logs possam ser calculados (sem zeros ou negativos)\n",
    "tips = tips[(tips['tip_pct'] > 0) & (tips['net_bill'] > 0)].copy()\n",
    "\n",
    "# Criar variáveis logarítmicas\n",
    "tips['log_tip_pct'] = np.log(tips['tip_pct'])\n",
    "tips['log_net_bill'] = np.log(tips['net_bill'])\n",
    "\n",
    "# Ajustar o modelo: log(tip_pct) ~ log(net_bill)\n",
    "reg_loglog = smf.ols('log_tip_pct ~ log_net_bill', data=tips).fit()\n",
    "\n",
    "# Exibir o resumo do modelo\n",
    "print(reg_loglog.summary())\n",
    "\n",
    "# Predição na escala log\n",
    "pred_loglog = reg_loglog.fittedvalues\n",
    "\n",
    "# Voltar para escala original\n",
    "pred_tip_pct_loglog = np.exp(pred_loglog)\n",
    "\n",
    "# Calcular R² na escala original de tip_pct\n",
    "from sklearn.metrics import r2_score\n",
    "r2_loglog_original = r2_score(tips['tip_pct'], pred_tip_pct_loglog)\n",
    "\n",
    "print(f\"\\nR² na escala original de tip_pct (modelo log-log): {r2_loglog_original:.4f}\")\n"
   ]
  },
  {
   "cell_type": "markdown",
   "metadata": {},
   "source": [
    "###  6. qual modelo resultou no melhor ajuste?"
   ]
  },
  {
   "cell_type": "markdown",
   "metadata": {},
   "source": [
    "O modelo log-log apresenta maior poder explicativo tanto na escala transformada quanto quando retornamos à escala original. Isso indica que a relação entre o percentual da gorjeta e a conta líquida se ajusta melhor por uma função de potência."
   ]
  }
 ],
 "metadata": {
  "kernelspec": {
   "display_name": "Python 3 (ipykernel)",
   "language": "python",
   "name": "python3"
  },
  "language_info": {
   "codemirror_mode": {
    "name": "ipython",
    "version": 3
   },
   "file_extension": ".py",
   "mimetype": "text/x-python",
   "name": "python",
   "nbconvert_exporter": "python",
   "pygments_lexer": "ipython3",
   "version": "3.12.7"
  }
 },
 "nbformat": 4,
 "nbformat_minor": 4
}
