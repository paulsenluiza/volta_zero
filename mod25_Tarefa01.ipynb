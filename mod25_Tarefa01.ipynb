{
 "cells": [
  {
   "cell_type": "markdown",
   "metadata": {},
   "source": [
    "# Cálculo - Tarefa 01\n",
    "\n",
    "1. Marque quais desses métodos/algoritmos muito populares em ciência de dados são baseados no uso de derivada:\n",
    "\n",
    "    1. Método Mínimos Quadrados\n",
    "    2. Gradiente descendente\n",
    "    3. Newton Raphson\n",
    "    4. CART (Árvore de decisão)"
   ]
  },
  {
   "cell_type": "markdown",
   "metadata": {},
   "source": [
    "Os métodos dos Mínimos Quadrados, Gradiente Descendente e Newton-Raphson usam derivadas porque todos eles precisam entender como uma função está mudando para encontrar o melhor resultado. O Mínimos Quadrados, por exemplo, calcula derivadas para achar onde o erro é menor. O Gradiente Descendente segue a direção da derivada para ajustar os parâmetros passo a passo. E o Newton-Raphson usa até a segunda derivada pra chegar mais rápido na resposta. Já o CART, que é uma árvore de decisão, funciona de outro jeito — ele divide os dados em grupos com base em regras, sem precisar de derivadas."
   ]
  },
  {
   "cell_type": "markdown",
   "metadata": {},
   "source": [
    "2. Dada uma base de dados com uma variável resposta $y$ e um conjunto de variáveis explicativas. Considere uma estrutura de um modelo de regressão. Explique com suas palavras por que não é possível obter parâmetros que forneçam um erro quadrático médio (EQM) menor que o obtido com estimadores de mínimos quadrados."
   ]
  },
  {
   "cell_type": "markdown",
   "metadata": {},
   "source": [
    "Quando usamos os mínimos quadrados em um modelo de regressão, estamos escolhendo os parâmetros que minimizam diretamente a soma dos quadrados dos erros, ou seja, o erro quadrático total entre o que o modelo prevê e os valores reais. Isso significa que, dentro daquele modelo e para os dados que temos, não existe outro conjunto de parâmetros que consiga fazer um trabalho melhor em termos de erro quadrático médio (EQM). O método foi feito justamente pra isso: encontrar os valores que deixam esse erro o menor possível. Por isso, qualquer outro conjunto de parâmetros vai acabar gerando um EQM maior ou, no máximo, igual — nunca menor."
   ]
  }
 ],
 "metadata": {
  "kernelspec": {
   "display_name": "Python 3 (ipykernel)",
   "language": "python",
   "name": "python3"
  },
  "language_info": {
   "codemirror_mode": {
    "name": "ipython",
    "version": 3
   },
   "file_extension": ".py",
   "mimetype": "text/x-python",
   "name": "python",
   "nbconvert_exporter": "python",
   "pygments_lexer": "ipython3",
   "version": "3.12.7"
  },
  "toc": {
   "base_numbering": 1,
   "nav_menu": {},
   "number_sections": true,
   "sideBar": true,
   "skip_h1_title": true,
   "title_cell": "Índice",
   "title_sidebar": "Conteúdo",
   "toc_cell": false,
   "toc_position": {},
   "toc_section_display": true,
   "toc_window_display": false
  },
  "varInspector": {
   "cols": {
    "lenName": 16,
    "lenType": 16,
    "lenVar": 40
   },
   "kernels_config": {
    "python": {
     "delete_cmd_postfix": "",
     "delete_cmd_prefix": "del ",
     "library": "var_list.py",
     "varRefreshCmd": "print(var_dic_list())"
    },
    "r": {
     "delete_cmd_postfix": ") ",
     "delete_cmd_prefix": "rm(",
     "library": "var_list.r",
     "varRefreshCmd": "cat(var_dic_list()) "
    }
   },
   "types_to_exclude": [
    "module",
    "function",
    "builtin_function_or_method",
    "instance",
    "_Feature"
   ],
   "window_display": false
  }
 },
 "nbformat": 4,
 "nbformat_minor": 4
}
