{
 "cells": [
  {
   "cell_type": "code",
   "execution_count": 2,
   "id": "a18484fb-cbd2-42b7-8c89-5f251e0c976a",
   "metadata": {},
   "outputs": [
    {
     "name": "stdout",
     "output_type": "stream",
     "text": [
      "Acurácia média (cross-validation): 0.9533333333333334\n"
     ]
    }
   ],
   "source": [
    "from sklearn.model_selection import cross_val_score\n",
    "from sklearn.datasets import load_iris\n",
    "from sklearn.ensemble import AdaBoostClassifier\n",
    "\n",
    "# Carregar os dados\n",
    "X, y = load_iris(return_X_y=True)\n",
    "\n",
    "# Criar o modelo AdaBoost com 100 estimadores e evitar o warning\n",
    "clf = AdaBoostClassifier(n_estimators=100, algorithm='SAMME')\n",
    "\n",
    "# Avaliar com validação cruzada (5 folds)\n",
    "scores = cross_val_score(clf, X, y, cv=5)\n",
    "\n",
    "# Mostrar a média das acurácias\n",
    "print(\"Acurácia média (cross-validation):\", scores.mean())\n"
   ]
  }
 ],
 "metadata": {
  "kernelspec": {
   "display_name": "Python 3 (ipykernel)",
   "language": "python",
   "name": "python3"
  },
  "language_info": {
   "codemirror_mode": {
    "name": "ipython",
    "version": 3
   },
   "file_extension": ".py",
   "mimetype": "text/x-python",
   "name": "python",
   "nbconvert_exporter": "python",
   "pygments_lexer": "ipython3",
   "version": "3.12.7"
  }
 },
 "nbformat": 4,
 "nbformat_minor": 5
}
